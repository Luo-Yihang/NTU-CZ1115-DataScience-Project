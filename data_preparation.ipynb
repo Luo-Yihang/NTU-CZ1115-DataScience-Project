{
 "cells": [
  {
   "cell_type": "markdown",
   "metadata": {},
   "source": [
    "<h1 align = \"center\">Review Scores Prediction on Olist</h1>"
   ]
  },
  {
   "cell_type": "markdown",
   "metadata": {},
   "source": [
    "# Data Preparation\n",
    "\n",
    "**Data Preparation Part** contains raw data cleaning, merging and precessing steps to get processed datasets we need;\n",
    "\n",
    "Dataset from Kaggle : <i>\"Brazilian E-Commerce Public Dataset by Olist\"</i>  and  <i>\"Marketing Funnel by Olist\"</i>\n",
    "\n",
    "Source:\n",
    "https://www.kaggle.com/olistbr/brazilian-ecommerce and https://www.kaggle.com/olistbr/marketing-funnel-olist\n",
    "\n",
    "Dara Itroduction:<br>\n",
    ">1. A Brazilian ecommerce public dataset of orders made at Olist Store. The dataset has information of 100k orders from 2016 to 2018 made at multiple marketplaces in Brazil. Its features allows viewing an order from multiple dimensions: from order status, price, payment and freight performance to customer location, product attributes and finally reviews written by customers. We also released a geolocation dataset that relates Brazilian zip codes to lat/lng coordinates.<br>\n",
    "<br>\n",
    ">2. A marketing funnel dataset from sellers that filled-in requests of contact to sell their products on Olist Store. The dataset has information of 8k Marketing Qualified Leads (MQLs) that requested contact between Jun. 1st 2017 and Jun 1st 2018. They were randomly sampled from the total of MQLs.\n",
    "\n",
    "---"
   ]
  },
  {
   "cell_type": "markdown",
   "metadata": {},
   "source": [
    "#### Group Member (CZ115 FS6):\n",
    "***Luo Yihang:*** &nbsp;&nbsp;&nbsp;&nbsp;&nbsp;&nbsp;&nbsp;*[U2022279G]*<br>\n",
    "***Wnag Qianteng:*** *[U2022039K]*<br>\n",
    "***Xue YuShan:*** &nbsp;&nbsp;&nbsp;&nbsp;&nbsp;*[U2022049H]*<br>\n",
    "\n",
    "---\n"
   ]
  },
  {
   "cell_type": "markdown",
   "metadata": {},
   "source": [
    "<a id=\"top\"></a>\n",
    "<h3 class=\"list-group-item list-group-item-action active\" data-toggle=\"list\" role=\"tab\" aria-controls=\"home\">Table of Content</h3>\n",
    "\n",
    "* [1. Libraries](#1)\n",
    "    <p></p>\n",
    "* [2. Import Datasets](#2)\n",
    "    - [Data Schema](#2.1) \n",
    "    <p></p>\n",
    "* [3. Dataset 1 : Brazilian E-Commerce Public Dataset by Olist](#3) \n",
    "    - [3.1 Data Overview](#3.1)\n",
    "    - [3.2 Data Merge](#3.2)\n",
    "    - [3.3 Extract Relavant Columns](#3.3)\n",
    "    - [3.4 Varibles Calculation](#3.4)\n",
    "    <p></p>\n",
    "* [4.  Dataset 2 : Marketing Funnel by Olist](#4)\n",
    "    - [4.1 Data Overview](#4.1)\n",
    "    - [4.2 Handle NULL Values](#4.2)\n",
    "    - [4.3 Handle Data Types](#4.3)\n",
    "    - [4.4 Add Review Scores of Sellers to the Dataset](#4.4)\n",
    "    <p></p>\n",
    "* [5. Processed Datasets Introduction](#5)"
   ]
  },
  {
   "cell_type": "markdown",
   "metadata": {},
   "source": [
    "<a id=\"1\"></a>\n",
    "## 1. Libraries"
   ]
  },
  {
   "cell_type": "code",
   "execution_count": 1,
   "metadata": {},
   "outputs": [],
   "source": [
    "# Basic Libraries\n",
    "import numpy as np\n",
    "import pandas as pd\n",
    "import seaborn as sb\n",
    "import matplotlib.pyplot as plt\n",
    "import math\n",
    "import os\n",
    "sb.set() # set the default Seaborn style for graphics"
   ]
  },
  {
   "cell_type": "code",
   "execution_count": null,
   "metadata": {},
   "outputs": [],
   "source": []
  },
  {
   "cell_type": "markdown",
   "metadata": {},
   "source": [
    "<a id=\"2\"></a>\n",
    "## 2. Import Datasets"
   ]
  },
  {
   "cell_type": "code",
   "execution_count": 2,
   "metadata": {},
   "outputs": [
    {
     "name": "stdout",
     "output_type": "stream",
     "text": [
      "### Brazilian E-Commerce Public Dataset by Olist ###\n",
      "0 - olist_customers_dataset.csv\n",
      "1 - olist_geolocation_dataset.csv\n",
      "2 - olist_orders_dataset.csv\n",
      "3 - olist_order_items_dataset.csv\n",
      "4 - olist_order_payments_dataset.csv\n",
      "5 - olist_order_reviews_dataset.csv\n",
      "6 - olist_products_dataset.csv\n",
      "7 - olist_sellers_dataset.csv\n",
      "8 - product_category_name_translation.csv\n",
      "9 - review_sentiemnt.txt\n",
      "\n",
      "---------------------------------------------\n",
      "\n",
      "### Marketing Funnel by Olist ###\n",
      "0 - data2cleaning.ipynb\n",
      "1 - olist_closed_deals_dataset.csv\n",
      "2 - olist_marketing_qualified_leads_dataset.csv\n",
      "3 - problem1 .ipynb\n"
     ]
    }
   ],
   "source": [
    "# Basic Dataset\n",
    "print('### Brazilian E-Commerce Public Dataset by Olist ###')\n",
    "for idx, file in enumerate(os.listdir('./brazilian-ecommerce')):\n",
    "    print(idx, '-', file)\n",
    "    \n",
    "print('\\n---------------------------------------------\\n')\n",
    "\n",
    "print('### Marketing Funnel by Olist ###')\n",
    "for idx, file in enumerate(os.listdir('./marketing-funnel-olist')):\n",
    "    print(idx, '-', file)"
   ]
  },
  {
   "cell_type": "code",
   "execution_count": 3,
   "metadata": {},
   "outputs": [],
   "source": [
    "# Reading all the files\n",
    "raw_path = './brazilian-ecommerce/'\n",
    "olist_customer = pd.read_csv(raw_path + 'olist_customers_dataset.csv')\n",
    "olist_geolocation = pd.read_csv(raw_path + 'olist_geolocation_dataset.csv')\n",
    "olist_orders = pd.read_csv(raw_path + 'olist_orders_dataset.csv')\n",
    "olist_order_items = pd.read_csv(raw_path + 'olist_order_items_dataset.csv')\n",
    "olist_order_payments = pd.read_csv(raw_path + 'olist_order_payments_dataset.csv')\n",
    "olist_order_reviews = pd.read_csv(raw_path + 'olist_order_reviews_dataset.csv')\n",
    "olist_products = pd.read_csv(raw_path + 'olist_products_dataset.csv')\n",
    "olist_sellers = pd.read_csv(raw_path + 'olist_sellers_dataset.csv')\n",
    "review_sentiment = pd.read_table(raw_path + \"review_sentiemnt.txt\", sep='\\t', names = ['order_id', 'positive', 'negative'])\n",
    "\n",
    "raw_path = './marketing-funnel-olist/'\n",
    "mql = pd.read_csv(raw_path + 'olist_marketing_qualified_leads_dataset.csv')\n",
    "cd = pd.read_csv(raw_path + 'olist_closed_deals_dataset.csv')"
   ]
  },
  {
   "cell_type": "markdown",
   "metadata": {},
   "source": [
    "<a id=\"2.1\"></a>\n",
    "**Data Schema**"
   ]
  },
  {
   "cell_type": "markdown",
   "metadata": {},
   "source": [
    "![ecommerce](./image/ecommerce.png) ![funnel](./image/funnel.png)"
   ]
  },
  {
   "cell_type": "code",
   "execution_count": null,
   "metadata": {},
   "outputs": [],
   "source": []
  },
  {
   "cell_type": "markdown",
   "metadata": {},
   "source": [
    "<a id=\"3\"></a>\n",
    "## 3. Dataset 1 : Brazilian E-Commerce Public Dataset by Olist"
   ]
  },
  {
   "cell_type": "markdown",
   "metadata": {},
   "source": [
    "<a id=\"3.1\"></a>\n",
    "### 3.1 Data Overview"
   ]
  },
  {
   "cell_type": "code",
   "execution_count": 4,
   "metadata": {
    "scrolled": false
   },
   "outputs": [
    {
     "data": {
      "text/html": [
       "<style  type=\"text/css\" >\n",
       "#T_85ba3cb0_a3e7_11eb_ae53_48a472e12c32row0_col1,#T_85ba3cb0_a3e7_11eb_ae53_48a472e12c32row2_col1,#T_85ba3cb0_a3e7_11eb_ae53_48a472e12c32row5_col1,#T_85ba3cb0_a3e7_11eb_ae53_48a472e12c32row8_col1{\n",
       "            background-color:  #f1ebf4;\n",
       "            color:  #000000;\n",
       "        }#T_85ba3cb0_a3e7_11eb_ae53_48a472e12c32row0_col2,#T_85ba3cb0_a3e7_11eb_ae53_48a472e12c32row1_col2,#T_85ba3cb0_a3e7_11eb_ae53_48a472e12c32row4_col2{\n",
       "            background-color:  #b4c4df;\n",
       "            color:  #000000;\n",
       "        }#T_85ba3cb0_a3e7_11eb_ae53_48a472e12c32row0_col3,#T_85ba3cb0_a3e7_11eb_ae53_48a472e12c32row0_col4,#T_85ba3cb0_a3e7_11eb_ae53_48a472e12c32row1_col3,#T_85ba3cb0_a3e7_11eb_ae53_48a472e12c32row1_col4,#T_85ba3cb0_a3e7_11eb_ae53_48a472e12c32row3_col3,#T_85ba3cb0_a3e7_11eb_ae53_48a472e12c32row3_col4,#T_85ba3cb0_a3e7_11eb_ae53_48a472e12c32row4_col3,#T_85ba3cb0_a3e7_11eb_ae53_48a472e12c32row4_col4,#T_85ba3cb0_a3e7_11eb_ae53_48a472e12c32row7_col1,#T_85ba3cb0_a3e7_11eb_ae53_48a472e12c32row7_col3,#T_85ba3cb0_a3e7_11eb_ae53_48a472e12c32row7_col4,#T_85ba3cb0_a3e7_11eb_ae53_48a472e12c32row8_col2,#T_85ba3cb0_a3e7_11eb_ae53_48a472e12c32row8_col3,#T_85ba3cb0_a3e7_11eb_ae53_48a472e12c32row8_col4{\n",
       "            background-color:  #fff7fb;\n",
       "            color:  #000000;\n",
       "        }#T_85ba3cb0_a3e7_11eb_ae53_48a472e12c32row1_col1,#T_85ba3cb0_a3e7_11eb_ae53_48a472e12c32row5_col3,#T_85ba3cb0_a3e7_11eb_ae53_48a472e12c32row6_col2,#T_85ba3cb0_a3e7_11eb_ae53_48a472e12c32row6_col4{\n",
       "            background-color:  #023858;\n",
       "            color:  #f1f1f1;\n",
       "        }#T_85ba3cb0_a3e7_11eb_ae53_48a472e12c32row2_col2{\n",
       "            background-color:  #046198;\n",
       "            color:  #f1f1f1;\n",
       "        }#T_85ba3cb0_a3e7_11eb_ae53_48a472e12c32row2_col3{\n",
       "            background-color:  #faf3f9;\n",
       "            color:  #000000;\n",
       "        }#T_85ba3cb0_a3e7_11eb_ae53_48a472e12c32row2_col4{\n",
       "            background-color:  #a5bddb;\n",
       "            color:  #000000;\n",
       "        }#T_85ba3cb0_a3e7_11eb_ae53_48a472e12c32row3_col1{\n",
       "            background-color:  #eee9f3;\n",
       "            color:  #000000;\n",
       "        }#T_85ba3cb0_a3e7_11eb_ae53_48a472e12c32row3_col2,#T_85ba3cb0_a3e7_11eb_ae53_48a472e12c32row5_col2{\n",
       "            background-color:  #2685bb;\n",
       "            color:  #000000;\n",
       "        }#T_85ba3cb0_a3e7_11eb_ae53_48a472e12c32row4_col1{\n",
       "            background-color:  #f0eaf4;\n",
       "            color:  #000000;\n",
       "        }#T_85ba3cb0_a3e7_11eb_ae53_48a472e12c32row5_col4{\n",
       "            background-color:  #d0d1e6;\n",
       "            color:  #000000;\n",
       "        }#T_85ba3cb0_a3e7_11eb_ae53_48a472e12c32row6_col1{\n",
       "            background-color:  #fbf3f9;\n",
       "            color:  #000000;\n",
       "        }#T_85ba3cb0_a3e7_11eb_ae53_48a472e12c32row6_col3{\n",
       "            background-color:  #fdf5fa;\n",
       "            color:  #000000;\n",
       "        }#T_85ba3cb0_a3e7_11eb_ae53_48a472e12c32row7_col2{\n",
       "            background-color:  #e3e0ee;\n",
       "            color:  #000000;\n",
       "        }</style><table id=\"T_85ba3cb0_a3e7_11eb_ae53_48a472e12c32\" ><thead>    <tr>        <th class=\"blank level0\" ></th>        <th class=\"col_heading level0 col0\" >dataset</th>        <th class=\"col_heading level0 col1\" >n_rows</th>        <th class=\"col_heading level0 col2\" >n_cols</th>        <th class=\"col_heading level0 col3\" >null_amount</th>        <th class=\"col_heading level0 col4\" >qty_null_columns</th>        <th class=\"col_heading level0 col5\" >null_columns</th>    </tr></thead><tbody>\n",
       "                <tr>\n",
       "                        <th id=\"T_85ba3cb0_a3e7_11eb_ae53_48a472e12c32level0_row0\" class=\"row_heading level0 row0\" >0</th>\n",
       "                        <td id=\"T_85ba3cb0_a3e7_11eb_ae53_48a472e12c32row0_col0\" class=\"data row0 col0\" >olist_customer</td>\n",
       "                        <td id=\"T_85ba3cb0_a3e7_11eb_ae53_48a472e12c32row0_col1\" class=\"data row0 col1\" >99441</td>\n",
       "                        <td id=\"T_85ba3cb0_a3e7_11eb_ae53_48a472e12c32row0_col2\" class=\"data row0 col2\" >5</td>\n",
       "                        <td id=\"T_85ba3cb0_a3e7_11eb_ae53_48a472e12c32row0_col3\" class=\"data row0 col3\" >0</td>\n",
       "                        <td id=\"T_85ba3cb0_a3e7_11eb_ae53_48a472e12c32row0_col4\" class=\"data row0 col4\" >0</td>\n",
       "                        <td id=\"T_85ba3cb0_a3e7_11eb_ae53_48a472e12c32row0_col5\" class=\"data row0 col5\" ></td>\n",
       "            </tr>\n",
       "            <tr>\n",
       "                        <th id=\"T_85ba3cb0_a3e7_11eb_ae53_48a472e12c32level0_row1\" class=\"row_heading level0 row1\" >1</th>\n",
       "                        <td id=\"T_85ba3cb0_a3e7_11eb_ae53_48a472e12c32row1_col0\" class=\"data row1 col0\" >olist_geolocation</td>\n",
       "                        <td id=\"T_85ba3cb0_a3e7_11eb_ae53_48a472e12c32row1_col1\" class=\"data row1 col1\" >1000163</td>\n",
       "                        <td id=\"T_85ba3cb0_a3e7_11eb_ae53_48a472e12c32row1_col2\" class=\"data row1 col2\" >5</td>\n",
       "                        <td id=\"T_85ba3cb0_a3e7_11eb_ae53_48a472e12c32row1_col3\" class=\"data row1 col3\" >0</td>\n",
       "                        <td id=\"T_85ba3cb0_a3e7_11eb_ae53_48a472e12c32row1_col4\" class=\"data row1 col4\" >0</td>\n",
       "                        <td id=\"T_85ba3cb0_a3e7_11eb_ae53_48a472e12c32row1_col5\" class=\"data row1 col5\" ></td>\n",
       "            </tr>\n",
       "            <tr>\n",
       "                        <th id=\"T_85ba3cb0_a3e7_11eb_ae53_48a472e12c32level0_row2\" class=\"row_heading level0 row2\" >2</th>\n",
       "                        <td id=\"T_85ba3cb0_a3e7_11eb_ae53_48a472e12c32row2_col0\" class=\"data row2 col0\" >olist_orders</td>\n",
       "                        <td id=\"T_85ba3cb0_a3e7_11eb_ae53_48a472e12c32row2_col1\" class=\"data row2 col1\" >99441</td>\n",
       "                        <td id=\"T_85ba3cb0_a3e7_11eb_ae53_48a472e12c32row2_col2\" class=\"data row2 col2\" >8</td>\n",
       "                        <td id=\"T_85ba3cb0_a3e7_11eb_ae53_48a472e12c32row2_col3\" class=\"data row2 col3\" >4908</td>\n",
       "                        <td id=\"T_85ba3cb0_a3e7_11eb_ae53_48a472e12c32row2_col4\" class=\"data row2 col4\" >3</td>\n",
       "                        <td id=\"T_85ba3cb0_a3e7_11eb_ae53_48a472e12c32row2_col5\" class=\"data row2 col5\" >order_approved_at, order_delivered_carrier_date, order_delivered_customer_date</td>\n",
       "            </tr>\n",
       "            <tr>\n",
       "                        <th id=\"T_85ba3cb0_a3e7_11eb_ae53_48a472e12c32level0_row3\" class=\"row_heading level0 row3\" >3</th>\n",
       "                        <td id=\"T_85ba3cb0_a3e7_11eb_ae53_48a472e12c32row3_col0\" class=\"data row3 col0\" >olist_order_items</td>\n",
       "                        <td id=\"T_85ba3cb0_a3e7_11eb_ae53_48a472e12c32row3_col1\" class=\"data row3 col1\" >112650</td>\n",
       "                        <td id=\"T_85ba3cb0_a3e7_11eb_ae53_48a472e12c32row3_col2\" class=\"data row3 col2\" >7</td>\n",
       "                        <td id=\"T_85ba3cb0_a3e7_11eb_ae53_48a472e12c32row3_col3\" class=\"data row3 col3\" >0</td>\n",
       "                        <td id=\"T_85ba3cb0_a3e7_11eb_ae53_48a472e12c32row3_col4\" class=\"data row3 col4\" >0</td>\n",
       "                        <td id=\"T_85ba3cb0_a3e7_11eb_ae53_48a472e12c32row3_col5\" class=\"data row3 col5\" ></td>\n",
       "            </tr>\n",
       "            <tr>\n",
       "                        <th id=\"T_85ba3cb0_a3e7_11eb_ae53_48a472e12c32level0_row4\" class=\"row_heading level0 row4\" >4</th>\n",
       "                        <td id=\"T_85ba3cb0_a3e7_11eb_ae53_48a472e12c32row4_col0\" class=\"data row4 col0\" >olist_order_payments</td>\n",
       "                        <td id=\"T_85ba3cb0_a3e7_11eb_ae53_48a472e12c32row4_col1\" class=\"data row4 col1\" >103886</td>\n",
       "                        <td id=\"T_85ba3cb0_a3e7_11eb_ae53_48a472e12c32row4_col2\" class=\"data row4 col2\" >5</td>\n",
       "                        <td id=\"T_85ba3cb0_a3e7_11eb_ae53_48a472e12c32row4_col3\" class=\"data row4 col3\" >0</td>\n",
       "                        <td id=\"T_85ba3cb0_a3e7_11eb_ae53_48a472e12c32row4_col4\" class=\"data row4 col4\" >0</td>\n",
       "                        <td id=\"T_85ba3cb0_a3e7_11eb_ae53_48a472e12c32row4_col5\" class=\"data row4 col5\" ></td>\n",
       "            </tr>\n",
       "            <tr>\n",
       "                        <th id=\"T_85ba3cb0_a3e7_11eb_ae53_48a472e12c32level0_row5\" class=\"row_heading level0 row5\" >5</th>\n",
       "                        <td id=\"T_85ba3cb0_a3e7_11eb_ae53_48a472e12c32row5_col0\" class=\"data row5 col0\" >olist_order_reviews</td>\n",
       "                        <td id=\"T_85ba3cb0_a3e7_11eb_ae53_48a472e12c32row5_col1\" class=\"data row5 col1\" >100000</td>\n",
       "                        <td id=\"T_85ba3cb0_a3e7_11eb_ae53_48a472e12c32row5_col2\" class=\"data row5 col2\" >7</td>\n",
       "                        <td id=\"T_85ba3cb0_a3e7_11eb_ae53_48a472e12c32row5_col3\" class=\"data row5 col3\" >146532</td>\n",
       "                        <td id=\"T_85ba3cb0_a3e7_11eb_ae53_48a472e12c32row5_col4\" class=\"data row5 col4\" >2</td>\n",
       "                        <td id=\"T_85ba3cb0_a3e7_11eb_ae53_48a472e12c32row5_col5\" class=\"data row5 col5\" >review_comment_title, review_comment_message</td>\n",
       "            </tr>\n",
       "            <tr>\n",
       "                        <th id=\"T_85ba3cb0_a3e7_11eb_ae53_48a472e12c32level0_row6\" class=\"row_heading level0 row6\" >6</th>\n",
       "                        <td id=\"T_85ba3cb0_a3e7_11eb_ae53_48a472e12c32row6_col0\" class=\"data row6 col0\" >olist_products</td>\n",
       "                        <td id=\"T_85ba3cb0_a3e7_11eb_ae53_48a472e12c32row6_col1\" class=\"data row6 col1\" >32951</td>\n",
       "                        <td id=\"T_85ba3cb0_a3e7_11eb_ae53_48a472e12c32row6_col2\" class=\"data row6 col2\" >9</td>\n",
       "                        <td id=\"T_85ba3cb0_a3e7_11eb_ae53_48a472e12c32row6_col3\" class=\"data row6 col3\" >2448</td>\n",
       "                        <td id=\"T_85ba3cb0_a3e7_11eb_ae53_48a472e12c32row6_col4\" class=\"data row6 col4\" >8</td>\n",
       "                        <td id=\"T_85ba3cb0_a3e7_11eb_ae53_48a472e12c32row6_col5\" class=\"data row6 col5\" >product_category_name, product_name_lenght, product_description_lenght, product_photos_qty, product_weight_g, product_length_cm, product_height_cm, product_width_cm</td>\n",
       "            </tr>\n",
       "            <tr>\n",
       "                        <th id=\"T_85ba3cb0_a3e7_11eb_ae53_48a472e12c32level0_row7\" class=\"row_heading level0 row7\" >7</th>\n",
       "                        <td id=\"T_85ba3cb0_a3e7_11eb_ae53_48a472e12c32row7_col0\" class=\"data row7 col0\" >olist_sellers</td>\n",
       "                        <td id=\"T_85ba3cb0_a3e7_11eb_ae53_48a472e12c32row7_col1\" class=\"data row7 col1\" >3095</td>\n",
       "                        <td id=\"T_85ba3cb0_a3e7_11eb_ae53_48a472e12c32row7_col2\" class=\"data row7 col2\" >4</td>\n",
       "                        <td id=\"T_85ba3cb0_a3e7_11eb_ae53_48a472e12c32row7_col3\" class=\"data row7 col3\" >0</td>\n",
       "                        <td id=\"T_85ba3cb0_a3e7_11eb_ae53_48a472e12c32row7_col4\" class=\"data row7 col4\" >0</td>\n",
       "                        <td id=\"T_85ba3cb0_a3e7_11eb_ae53_48a472e12c32row7_col5\" class=\"data row7 col5\" ></td>\n",
       "            </tr>\n",
       "            <tr>\n",
       "                        <th id=\"T_85ba3cb0_a3e7_11eb_ae53_48a472e12c32level0_row8\" class=\"row_heading level0 row8\" >8</th>\n",
       "                        <td id=\"T_85ba3cb0_a3e7_11eb_ae53_48a472e12c32row8_col0\" class=\"data row8 col0\" >review_sentiemnt</td>\n",
       "                        <td id=\"T_85ba3cb0_a3e7_11eb_ae53_48a472e12c32row8_col1\" class=\"data row8 col1\" >100000</td>\n",
       "                        <td id=\"T_85ba3cb0_a3e7_11eb_ae53_48a472e12c32row8_col2\" class=\"data row8 col2\" >3</td>\n",
       "                        <td id=\"T_85ba3cb0_a3e7_11eb_ae53_48a472e12c32row8_col3\" class=\"data row8 col3\" >0</td>\n",
       "                        <td id=\"T_85ba3cb0_a3e7_11eb_ae53_48a472e12c32row8_col4\" class=\"data row8 col4\" >0</td>\n",
       "                        <td id=\"T_85ba3cb0_a3e7_11eb_ae53_48a472e12c32row8_col5\" class=\"data row8 col5\" ></td>\n",
       "            </tr>\n",
       "    </tbody></table>"
      ],
      "text/plain": [
       "<pandas.io.formats.style.Styler at 0x1c2a0a89310>"
      ]
     },
     "execution_count": 4,
     "metadata": {},
     "output_type": "execute_result"
    }
   ],
   "source": [
    "# Collecting all datasets\n",
    "datasets = [olist_customer, olist_geolocation, olist_orders, olist_order_items, olist_order_payments,\n",
    "            olist_order_reviews, olist_products, olist_sellers, review_sentiment]\n",
    "names = ['olist_customer', 'olist_geolocation', 'olist_orders', 'olist_order_items', 'olist_order_payments',\n",
    "         'olist_order_reviews', 'olist_products', 'olist_sellers', 'review_sentiemnt']\n",
    "\n",
    "# Creating a DataFrame with useful information about all datasets\n",
    "data_info = pd.DataFrame({})\n",
    "data_info['dataset'] = names\n",
    "data_info['n_rows'] = [df.shape[0] for df in datasets]\n",
    "data_info['n_cols'] = [df.shape[1] for df in datasets]\n",
    "data_info['null_amount'] = [df.isnull().sum().sum() for df in datasets]\n",
    "data_info['qty_null_columns'] = [len([col for col, null in df.isnull().sum().items() if null > 0]) for df in datasets]\n",
    "data_info['null_columns'] = [', '.join([col for col, null in df.isnull().sum().items() if null > 0]) for df in datasets]\n",
    "\n",
    "data_info.style.background_gradient()"
   ]
  },
  {
   "cell_type": "markdown",
   "metadata": {},
   "source": [
    "<a id=\"3.2\"></a>\n",
    "### 3.2 Data Merge"
   ]
  },
  {
   "cell_type": "code",
   "execution_count": 5,
   "metadata": {},
   "outputs": [],
   "source": [
    "# Merge all datasets into one dataframe according to data schema above\n",
    "ecom = pd.merge(olist_orders,olist_order_items, on='order_id', how='inner')\n",
    "ecom = pd.merge(ecom,olist_order_reviews, on='order_id', how='inner')\n",
    "ecom = pd.merge(ecom,olist_order_payments, on='order_id', how='inner')\n",
    "ecom = pd.merge(ecom,olist_customer, on='customer_id', how='inner')\n",
    "ecom = pd.merge(ecom,olist_products, on='product_id', how='inner')\n",
    "ecom = pd.merge(ecom,olist_sellers, on='seller_id', how='inner')\n",
    "ecom = pd.merge(ecom,review_sentiment, on='order_id', how='inner')\n",
    "\n",
    "olist_geolocation = olist_geolocation.drop_duplicates(['geolocation_zip_code_prefix'])   # Drop duplicates\n",
    "olist_geolocation = olist_geolocation.drop(columns = ['geolocation_city','geolocation_state'])\n",
    "\n",
    "olist_geolocation.columns = ['customer_zip_code_prefix', 'customer_lat', 'customer_lng']\n",
    "ecom = pd.merge(ecom,olist_geolocation, on='customer_zip_code_prefix', how='inner')\n",
    "olist_geolocation.columns = ['seller_zip_code_prefix', 'seller_lat', 'seller_lng']\n",
    "ecom = pd.merge(ecom,olist_geolocation, on='seller_zip_code_prefix', how='inner')"
   ]
  },
  {
   "cell_type": "code",
   "execution_count": 6,
   "metadata": {},
   "outputs": [],
   "source": [
    "# Only orders successfully delivered will be reserved\n",
    "ecom = ecom[ecom['order_status'] == \"delivered\"]\n",
    "\n",
    "# Drop NULL values from 'product_category_name' and 'product_weight_g'\n",
    "ecom=ecom.dropna(subset=['product_category_name'])\n",
    "ecom=ecom.dropna(subset=['product_weight_g'])"
   ]
  },
  {
   "cell_type": "code",
   "execution_count": 7,
   "metadata": {},
   "outputs": [],
   "source": [
    "# Calculate the distance between sellers and customers\n",
    "ecom['a'] = ecom['customer_lat'] - ecom['seller_lat']\n",
    "ecom['b'] = ecom['customer_lng'] - ecom['seller_lng']\n",
    "ecom['distance'] = ecom.apply(lambda ecom: 2*np.arcsin(math.sqrt(pow(math.sin(ecom['a'] /2*math.pi/180),2)+math.cos(ecom['customer_lat']*math.pi/180)*math.cos(ecom['seller_lat']*math.pi/180)*pow(math.sin(ecom['b'] /2*math.pi/180),2)))*6378.173,axis = 1)\n",
    "ecom = ecom.drop(columns=['order_status','review_id','customer_unique_id','customer_zip_code_prefix','seller_zip_code_prefix','a','b'])  # Drop irrelevant columns"
   ]
  },
  {
   "cell_type": "code",
   "execution_count": 8,
   "metadata": {},
   "outputs": [],
   "source": [
    "# Calculate the dilivery time and estimated delivery time from timestamps\n",
    "# Extract columns into datetime\n",
    "ecom['order_purchase_timestamp'] = pd.to_datetime(ecom['order_purchase_timestamp'])\n",
    "ecom['order_approved_at'] = pd.to_datetime(ecom['order_approved_at'])\n",
    "ecom['order_estimated_delivery_date'] = pd.to_datetime(ecom['order_estimated_delivery_date'])\n",
    "ecom['order_delivered_customer_date'] = pd.to_datetime(ecom['order_delivered_customer_date'])\n",
    "\n",
    "# Calculate delivery time in days\n",
    "ecom['delivery_time'] = (ecom['order_delivered_customer_date'] - ecom['order_approved_at']).dt.total_seconds() / 86400\n",
    "ecom['estimated_delivery_time'] = (ecom['order_estimated_delivery_date'] - ecom['order_approved_at']).dt.total_seconds() / 86400"
   ]
  },
  {
   "cell_type": "code",
   "execution_count": 9,
   "metadata": {},
   "outputs": [
    {
     "name": "stdout",
     "output_type": "stream",
     "text": [
      "<class 'pandas.core.frame.DataFrame'>\n",
      "Int64Index: 114892 entries, 0 to 119155\n",
      "Data columns (total 43 columns):\n",
      " #   Column                         Non-Null Count   Dtype         \n",
      "---  ------                         --------------   -----         \n",
      " 0   order_id                       114892 non-null  object        \n",
      " 1   customer_id                    114892 non-null  object        \n",
      " 2   order_purchase_timestamp       114892 non-null  datetime64[ns]\n",
      " 3   order_approved_at              114878 non-null  datetime64[ns]\n",
      " 4   order_delivered_carrier_date   114890 non-null  object        \n",
      " 5   order_delivered_customer_date  114884 non-null  datetime64[ns]\n",
      " 6   order_estimated_delivery_date  114892 non-null  datetime64[ns]\n",
      " 7   order_item_id                  114892 non-null  int64         \n",
      " 8   product_id                     114892 non-null  object        \n",
      " 9   seller_id                      114892 non-null  object        \n",
      " 10  shipping_limit_date            114892 non-null  object        \n",
      " 11  price                          114892 non-null  float64       \n",
      " 12  freight_value                  114892 non-null  float64       \n",
      " 13  review_score                   114892 non-null  int64         \n",
      " 14  review_comment_title           13648 non-null   object        \n",
      " 15  review_comment_message         48513 non-null   object        \n",
      " 16  review_creation_date           114892 non-null  object        \n",
      " 17  review_answer_timestamp        114892 non-null  object        \n",
      " 18  payment_sequential             114892 non-null  int64         \n",
      " 19  payment_type                   114892 non-null  object        \n",
      " 20  payment_installments           114892 non-null  int64         \n",
      " 21  payment_value                  114892 non-null  float64       \n",
      " 22  customer_city                  114892 non-null  object        \n",
      " 23  customer_state                 114892 non-null  object        \n",
      " 24  product_category_name          114892 non-null  object        \n",
      " 25  product_name_lenght            114892 non-null  float64       \n",
      " 26  product_description_lenght     114892 non-null  float64       \n",
      " 27  product_photos_qty             114892 non-null  float64       \n",
      " 28  product_weight_g               114892 non-null  float64       \n",
      " 29  product_length_cm              114892 non-null  float64       \n",
      " 30  product_height_cm              114892 non-null  float64       \n",
      " 31  product_width_cm               114892 non-null  float64       \n",
      " 32  seller_city                    114892 non-null  object        \n",
      " 33  seller_state                   114892 non-null  object        \n",
      " 34  positive                       114892 non-null  int64         \n",
      " 35  negative                       114892 non-null  int64         \n",
      " 36  customer_lat                   114892 non-null  float64       \n",
      " 37  customer_lng                   114892 non-null  float64       \n",
      " 38  seller_lat                     114892 non-null  float64       \n",
      " 39  seller_lng                     114892 non-null  float64       \n",
      " 40  distance                       114892 non-null  float64       \n",
      " 41  delivery_time                  114870 non-null  float64       \n",
      " 42  estimated_delivery_time        114878 non-null  float64       \n",
      "dtypes: datetime64[ns](4), float64(17), int64(6), object(16)\n",
      "memory usage: 38.6+ MB\n"
     ]
    }
   ],
   "source": [
    "# Information of the dataset\n",
    "ecom.info()"
   ]
  },
  {
   "cell_type": "markdown",
   "metadata": {},
   "source": [
    "<a id=\"3.3\"></a>\n",
    "### 3.3 Extract Relavant Columns\n",
    "In our analysis, we don't need to use so many columns."
   ]
  },
  {
   "cell_type": "code",
   "execution_count": 10,
   "metadata": {},
   "outputs": [],
   "source": [
    "# Extract the variables needed\n",
    "olist_ecommerce = pd.DataFrame(ecom[['product_id','order_id','customer_id',\n",
    "                                     'delivery_time', 'estimated_delivery_time',\n",
    "                                     'freight_value', 'distance','review_score','product_category_name',\n",
    "                                     'product_description_lenght','product_photos_qty',\n",
    "                                     'price', 'order_item_id','positive','negative']])"
   ]
  },
  {
   "cell_type": "markdown",
   "metadata": {},
   "source": [
    "<a id=\"3.4\"></a>\n",
    "### 3.4 Varibles Calculation\n",
    "Our goal is to predict the review score of products, so the varivles should be related to products instead of orders."
   ]
  },
  {
   "cell_type": "code",
   "execution_count": 11,
   "metadata": {},
   "outputs": [],
   "source": [
    "# Total sales\n",
    "order_num = pd.DataFrame(olist_ecommerce.groupby('product_id')['order_item_id'].agg('sum'))\n",
    "order_num.rename(columns = {'order_item_id': 'sales'}, inplace = True)\n",
    "olist_ecommerce = pd.merge(olist_ecommerce, order_num, on=\"product_id\", how=\"inner\")"
   ]
  },
  {
   "cell_type": "code",
   "execution_count": 12,
   "metadata": {},
   "outputs": [],
   "source": [
    "# Average of freight value\n",
    "freight_value_ave = pd.DataFrame(olist_ecommerce.groupby('product_id')['freight_value'].agg('mean'))\n",
    "freight_value_ave.rename(columns = {'freight_value': 'freight_value_ave'}, inplace = True)\n",
    "olist_ecommerce = pd.merge(olist_ecommerce, freight_value_ave, on=\"product_id\", how=\"inner\")"
   ]
  },
  {
   "cell_type": "code",
   "execution_count": 13,
   "metadata": {},
   "outputs": [],
   "source": [
    "# Average of delivery_time\n",
    "delivery_time_ave = pd.DataFrame(olist_ecommerce.groupby('product_id')['delivery_time'].agg('mean'))\n",
    "delivery_time_ave.rename(columns = {'delivery_time': 'delivery_time_ave'}, inplace = True)\n",
    "olist_ecommerce = pd.merge(olist_ecommerce, delivery_time_ave, on=\"product_id\", how=\"inner\")"
   ]
  },
  {
   "cell_type": "code",
   "execution_count": 14,
   "metadata": {},
   "outputs": [],
   "source": [
    "# Average of estimated delivery_time\n",
    "estimated_delivery_time_ave = pd.DataFrame(olist_ecommerce.groupby('product_id')['estimated_delivery_time'].agg('mean'))\n",
    "estimated_delivery_time_ave.rename(columns = {'estimated_delivery_time': 'estimated_delivery_time_ave'}, inplace = True)\n",
    "olist_ecommerce = pd.merge(olist_ecommerce, estimated_delivery_time_ave, on=\"product_id\", how=\"inner\")"
   ]
  },
  {
   "cell_type": "code",
   "execution_count": 15,
   "metadata": {},
   "outputs": [],
   "source": [
    "# Average of distance\n",
    "distance_ave = pd.DataFrame(olist_ecommerce.groupby('product_id')['distance'].agg('mean'))\n",
    "distance_ave.rename(columns = {'distance': 'distance_ave'}, inplace = True)\n",
    "olist_ecommerce = pd.merge(olist_ecommerce, distance_ave, on=\"product_id\", how=\"inner\")"
   ]
  },
  {
   "cell_type": "code",
   "execution_count": 16,
   "metadata": {},
   "outputs": [],
   "source": [
    "# Average of review score\n",
    "review_score_ave = pd.DataFrame(olist_ecommerce.groupby('product_id')['review_score'].agg('mean'))\n",
    "review_score_ave.rename(columns = {'review_score': 'review_score_ave'}, inplace = True)\n",
    "olist_ecommerce = pd.merge(olist_ecommerce, review_score_ave, on=\"product_id\", how=\"inner\")"
   ]
  },
  {
   "cell_type": "code",
   "execution_count": 17,
   "metadata": {},
   "outputs": [],
   "source": [
    "# Average of product_description_lenght\n",
    "product_description_lenght_ave = pd.DataFrame(olist_ecommerce.groupby('product_id')['product_description_lenght'].agg('mean'))\n",
    "product_description_lenght_ave.rename(columns = {'product_description_lenght': 'product_description_lenght_ave'}, inplace = True)\n",
    "olist_ecommerce = pd.merge(olist_ecommerce, product_description_lenght_ave, on=\"product_id\", how=\"inner\")"
   ]
  },
  {
   "cell_type": "code",
   "execution_count": 18,
   "metadata": {},
   "outputs": [],
   "source": [
    "# Average of product_photos_qty\n",
    "product_photos_qty_ave = pd.DataFrame(olist_ecommerce.groupby('product_id')['product_photos_qty'].agg('mean'))\n",
    "product_photos_qty_ave.rename(columns = {'product_photos_qty': 'product_photos_qty_ave'}, inplace = True)\n",
    "olist_ecommerce = pd.merge(olist_ecommerce, product_photos_qty_ave, on=\"product_id\", how=\"inner\")"
   ]
  },
  {
   "cell_type": "code",
   "execution_count": 19,
   "metadata": {},
   "outputs": [],
   "source": [
    "# Average of price\n",
    "price_ave = pd.DataFrame(olist_ecommerce.groupby('product_id')['price'].agg('mean'))\n",
    "price_ave.rename(columns = {'price': 'price_ave'}, inplace = True)\n",
    "olist_ecommerce = pd.merge(olist_ecommerce, price_ave, on=\"product_id\", how=\"inner\")"
   ]
  },
  {
   "cell_type": "code",
   "execution_count": 20,
   "metadata": {},
   "outputs": [],
   "source": [
    "# Average of positive sentiment score\n",
    "positive_ave = pd.DataFrame(olist_ecommerce.groupby('product_id')['positive'].agg('mean'))\n",
    "positive_ave.rename(columns = {'positive': 'positive_ave'}, inplace = True)\n",
    "olist_ecommerce = pd.merge(olist_ecommerce, positive_ave, on=\"product_id\", how=\"inner\")"
   ]
  },
  {
   "cell_type": "code",
   "execution_count": 21,
   "metadata": {},
   "outputs": [],
   "source": [
    "# Average of negative sentiment score\n",
    "negative_ave = pd.DataFrame(olist_ecommerce.groupby('product_id')['negative'].agg('mean'))\n",
    "negative_ave.rename(columns = {'negative': 'negative_ave'}, inplace = True)\n",
    "olist_ecommerce = pd.merge(olist_ecommerce, negative_ave, on=\"product_id\", how=\"inner\")"
   ]
  },
  {
   "cell_type": "code",
   "execution_count": 22,
   "metadata": {},
   "outputs": [],
   "source": [
    "# Now, we have varibles related to each product. Therefore, we can drop duplicate values of 'product_id'\n",
    "olist_ecommerce = olist_ecommerce.drop_duplicates(['product_id'])\n",
    "\n",
    "# Drop irrelevant columns\n",
    "olist_ecommerce = olist_ecommerce.drop(columns=['order_id', 'customer_id', 'delivery_time','estimated_delivery_time', \n",
    "                                                'freight_value', 'distance', 'review_score',\n",
    "                                                'product_description_lenght', 'product_photos_qty', 'price',\n",
    "                                                'order_item_id', 'positive', 'negative',])"
   ]
  },
  {
   "cell_type": "code",
   "execution_count": 23,
   "metadata": {},
   "outputs": [
    {
     "data": {
      "text/html": [
       "<div>\n",
       "<style scoped>\n",
       "    .dataframe tbody tr th:only-of-type {\n",
       "        vertical-align: middle;\n",
       "    }\n",
       "\n",
       "    .dataframe tbody tr th {\n",
       "        vertical-align: top;\n",
       "    }\n",
       "\n",
       "    .dataframe thead th {\n",
       "        text-align: right;\n",
       "    }\n",
       "</style>\n",
       "<table border=\"1\" class=\"dataframe\">\n",
       "  <thead>\n",
       "    <tr style=\"text-align: right;\">\n",
       "      <th></th>\n",
       "      <th>product_id</th>\n",
       "      <th>product_category_name</th>\n",
       "      <th>sales</th>\n",
       "      <th>freight_value_ave</th>\n",
       "      <th>delivery_time_ave</th>\n",
       "      <th>estimated_delivery_time_ave</th>\n",
       "      <th>distance_ave</th>\n",
       "      <th>review_score_ave</th>\n",
       "      <th>product_description_lenght_ave</th>\n",
       "      <th>product_photos_qty_ave</th>\n",
       "      <th>price_ave</th>\n",
       "      <th>positive_ave</th>\n",
       "      <th>negative_ave</th>\n",
       "    </tr>\n",
       "  </thead>\n",
       "  <tbody>\n",
       "    <tr>\n",
       "      <th>0</th>\n",
       "      <td>87285b34884572647811a353c7ac498a</td>\n",
       "      <td>utilidades_domesticas</td>\n",
       "      <td>6</td>\n",
       "      <td>9.303333</td>\n",
       "      <td>7.785986</td>\n",
       "      <td>14.983281</td>\n",
       "      <td>94.932814</td>\n",
       "      <td>4.000000</td>\n",
       "      <td>268.0</td>\n",
       "      <td>4.0</td>\n",
       "      <td>29.990000</td>\n",
       "      <td>1.000000</td>\n",
       "      <td>-1.166667</td>\n",
       "    </tr>\n",
       "    <tr>\n",
       "      <th>6</th>\n",
       "      <td>b00a32a0b42fd65efb58a5822009f629</td>\n",
       "      <td>bebes</td>\n",
       "      <td>9</td>\n",
       "      <td>10.435556</td>\n",
       "      <td>6.722681</td>\n",
       "      <td>15.945769</td>\n",
       "      <td>166.680711</td>\n",
       "      <td>4.000000</td>\n",
       "      <td>398.0</td>\n",
       "      <td>3.0</td>\n",
       "      <td>77.677778</td>\n",
       "      <td>1.222222</td>\n",
       "      <td>-1.111111</td>\n",
       "    </tr>\n",
       "    <tr>\n",
       "      <th>15</th>\n",
       "      <td>725cbfcaff95a4d43742fdf13cf43c75</td>\n",
       "      <td>cool_stuff</td>\n",
       "      <td>24</td>\n",
       "      <td>11.344167</td>\n",
       "      <td>6.366090</td>\n",
       "      <td>16.799455</td>\n",
       "      <td>276.714411</td>\n",
       "      <td>4.416667</td>\n",
       "      <td>537.0</td>\n",
       "      <td>2.0</td>\n",
       "      <td>44.524583</td>\n",
       "      <td>1.208333</td>\n",
       "      <td>-1.000000</td>\n",
       "    </tr>\n",
       "    <tr>\n",
       "      <th>39</th>\n",
       "      <td>7e0dc102074f8285580c9777f79c90cf</td>\n",
       "      <td>ferramentas_jardim</td>\n",
       "      <td>79</td>\n",
       "      <td>13.710282</td>\n",
       "      <td>10.785287</td>\n",
       "      <td>26.305938</td>\n",
       "      <td>433.695308</td>\n",
       "      <td>3.774648</td>\n",
       "      <td>1251.0</td>\n",
       "      <td>2.0</td>\n",
       "      <td>35.956338</td>\n",
       "      <td>1.126761</td>\n",
       "      <td>-1.098592</td>\n",
       "    </tr>\n",
       "    <tr>\n",
       "      <th>110</th>\n",
       "      <td>a298a105818dce6878b787e4af6cff7d</td>\n",
       "      <td>bebes</td>\n",
       "      <td>38</td>\n",
       "      <td>11.974737</td>\n",
       "      <td>8.232452</td>\n",
       "      <td>18.539242</td>\n",
       "      <td>348.895663</td>\n",
       "      <td>4.710526</td>\n",
       "      <td>1158.0</td>\n",
       "      <td>2.0</td>\n",
       "      <td>79.900000</td>\n",
       "      <td>1.078947</td>\n",
       "      <td>-1.000000</td>\n",
       "    </tr>\n",
       "  </tbody>\n",
       "</table>\n",
       "</div>"
      ],
      "text/plain": [
       "                           product_id  product_category_name  sales  \\\n",
       "0    87285b34884572647811a353c7ac498a  utilidades_domesticas      6   \n",
       "6    b00a32a0b42fd65efb58a5822009f629                  bebes      9   \n",
       "15   725cbfcaff95a4d43742fdf13cf43c75             cool_stuff     24   \n",
       "39   7e0dc102074f8285580c9777f79c90cf     ferramentas_jardim     79   \n",
       "110  a298a105818dce6878b787e4af6cff7d                  bebes     38   \n",
       "\n",
       "     freight_value_ave  delivery_time_ave  estimated_delivery_time_ave  \\\n",
       "0             9.303333           7.785986                    14.983281   \n",
       "6            10.435556           6.722681                    15.945769   \n",
       "15           11.344167           6.366090                    16.799455   \n",
       "39           13.710282          10.785287                    26.305938   \n",
       "110          11.974737           8.232452                    18.539242   \n",
       "\n",
       "     distance_ave  review_score_ave  product_description_lenght_ave  \\\n",
       "0       94.932814          4.000000                           268.0   \n",
       "6      166.680711          4.000000                           398.0   \n",
       "15     276.714411          4.416667                           537.0   \n",
       "39     433.695308          3.774648                          1251.0   \n",
       "110    348.895663          4.710526                          1158.0   \n",
       "\n",
       "     product_photos_qty_ave  price_ave  positive_ave  negative_ave  \n",
       "0                       4.0  29.990000      1.000000     -1.166667  \n",
       "6                       3.0  77.677778      1.222222     -1.111111  \n",
       "15                      2.0  44.524583      1.208333     -1.000000  \n",
       "39                      2.0  35.956338      1.126761     -1.098592  \n",
       "110                     2.0  79.900000      1.078947     -1.000000  "
      ]
     },
     "execution_count": 23,
     "metadata": {},
     "output_type": "execute_result"
    }
   ],
   "source": [
    "# The final dataset 1\n",
    "olist_ecommerce.head()"
   ]
  },
  {
   "cell_type": "code",
   "execution_count": null,
   "metadata": {},
   "outputs": [],
   "source": []
  },
  {
   "cell_type": "markdown",
   "metadata": {},
   "source": [
    "<a id=\"4\"></a>\n",
    "## 4. Dataset 2 : Marketing Funnel by Olist"
   ]
  },
  {
   "cell_type": "markdown",
   "metadata": {},
   "source": [
    "<a id=\"4.1\"></a>\n",
    "### 4.1 Data Overview"
   ]
  },
  {
   "cell_type": "code",
   "execution_count": 24,
   "metadata": {},
   "outputs": [
    {
     "name": "stdout",
     "output_type": "stream",
     "text": [
      "There are  8000 rows and  17 columns in the merged dataset.\n",
      "\n",
      "mql_id                              0\n",
      "first_contact_date                  0\n",
      "landing_page_id                     0\n",
      "origin                             60\n",
      "seller_id                        7158\n",
      "sdr_id                           7158\n",
      "sr_id                            7158\n",
      "won_date                         7158\n",
      "business_segment                 7159\n",
      "lead_type                        7164\n",
      "lead_behaviour_profile           7335\n",
      "has_company                      7937\n",
      "has_gtin                         7936\n",
      "average_stock                    7934\n",
      "business_type                    7168\n",
      "declared_product_catalog_size    7931\n",
      "declared_monthly_revenue         7158\n",
      "dtype: int64\n",
      "\n",
      "Among the leads who had contacted to Olist, 10.525 % of their deals are closed at last.\n"
     ]
    }
   ],
   "source": [
    "mf = mql.merge(cd, on='mql_id', how='left')\n",
    "\n",
    "#Check the number of NaN values in each column\n",
    "print('There are ',mf.shape[0],'rows and ',mf.shape[1],'columns in the merged dataset.')\n",
    "print()\n",
    "print(mf.isnull().sum())\n",
    "\n",
    "closed_deals_count = cd['mql_id'].count()\n",
    "total_mqls = mql['mql_id'].count()\n",
    "closed_deal_rate = closed_deals_count/total_mqls.round(2)*100\n",
    "print()\n",
    "\n",
    "#Calculate the percentage of closed deals\n",
    "print('Among the leads who had contacted to Olist,',closed_deal_rate,'% of their deals are closed at last.')"
   ]
  },
  {
   "cell_type": "markdown",
   "metadata": {},
   "source": [
    "<a id=\"4.2\"></a>\n",
    "### 4.2 Handle NULL Values"
   ]
  },
  {
   "cell_type": "code",
   "execution_count": 25,
   "metadata": {},
   "outputs": [
    {
     "name": "stdout",
     "output_type": "stream",
     "text": [
      "Missing value proportion(%):\n",
      "mql_id                            0.00\n",
      "first_contact_date                0.00\n",
      "landing_page_id                   0.00\n",
      "origin                            1.66\n",
      "seller_id                         0.00\n",
      "sdr_id                            0.00\n",
      "sr_id                             0.00\n",
      "won_date                          0.00\n",
      "business_segment                  0.12\n",
      "lead_type                         0.71\n",
      "lead_behaviour_profile           21.02\n",
      "has_company                      92.52\n",
      "has_gtin                         92.40\n",
      "average_stock                    92.16\n",
      "business_type                     1.19\n",
      "declared_product_catalog_size    91.81\n",
      "declared_monthly_revenue          0.00\n",
      "dtype: float64\n"
     ]
    }
   ],
   "source": [
    "# We only analyze the closed deals\n",
    "mf=mf.dropna(subset=['won_date'])\n",
    "print('Missing value proportion(%):')\n",
    "print((mf.isnull().sum()/mf.shape[0]*100).round(2))"
   ]
  },
  {
   "cell_type": "markdown",
   "metadata": {},
   "source": [
    "We can see variables 'has_company', 'has_gtin','average_stock', 'declared_product_catalog_size' have too many missing values, which means that they have poor value to analyze."
   ]
  },
  {
   "cell_type": "code",
   "execution_count": 26,
   "metadata": {},
   "outputs": [],
   "source": [
    "mf = mf.drop(columns=['has_company','has_gtin','average_stock','declared_product_catalog_size'])\n",
    "mf = mf.drop(columns = ['sdr_id','sr_id','landing_page_id'])"
   ]
  },
  {
   "cell_type": "markdown",
   "metadata": {},
   "source": [
    "<a id=\"4.3\"></a>\n",
    "### 4.3 Handle Data Types"
   ]
  },
  {
   "cell_type": "code",
   "execution_count": 27,
   "metadata": {},
   "outputs": [],
   "source": [
    "#Convert columns of date and time to type datetime\n",
    "mf['first_contact_date'] = pd.to_datetime(mf['first_contact_date'])\n",
    "mf['won_date'] = pd.to_datetime(mf['won_date'])\n",
    "\n",
    "#Calculate days from close\n",
    "mf['days_to_close'] = (mf['won_date'] - mf['first_contact_date']).dt.days"
   ]
  },
  {
   "cell_type": "code",
   "execution_count": 28,
   "metadata": {},
   "outputs": [
    {
     "data": {
      "text/plain": [
       "mql_id                              object\n",
       "first_contact_date          datetime64[ns]\n",
       "origin                            category\n",
       "seller_id                           object\n",
       "won_date                    datetime64[ns]\n",
       "business_segment                  category\n",
       "lead_type                         category\n",
       "lead_behaviour_profile            category\n",
       "business_type                     category\n",
       "declared_monthly_revenue           float64\n",
       "days_to_close                        int64\n",
       "dtype: object"
      ]
     },
     "execution_count": 28,
     "metadata": {},
     "output_type": "execute_result"
    }
   ],
   "source": [
    "#Convert categorical variables into category datatype\n",
    "mf['origin'] = mf['origin'].astype('category')\n",
    "mf['business_segment'] = mf['business_segment'].astype('category')\n",
    "mf['lead_behaviour_profile'] = mf['lead_behaviour_profile'].astype('category')\n",
    "mf['lead_type'] = mf['lead_type'].astype('category')\n",
    "mf['business_type'] = mf['business_type'].astype('category')\n",
    "mf.dtypes"
   ]
  },
  {
   "cell_type": "markdown",
   "metadata": {},
   "source": [
    "<a id=\"4.4\"></a>\n",
    "### Add Review Scores of Sellers to the Dataset"
   ]
  },
  {
   "cell_type": "code",
   "execution_count": 29,
   "metadata": {},
   "outputs": [],
   "source": [
    "# Calculate average review scores of each seller in the dataset\n",
    "reviews_seller = pd.merge(olist_orders,olist_order_items, on='order_id', how='inner')\n",
    "reviews_seller = pd.merge(reviews_seller,olist_order_reviews, on='order_id', how='inner')\n",
    "reviews_seller = pd.merge(reviews_seller,olist_sellers, on='seller_id', how='inner')\n",
    "review_score_ave = pd.DataFrame(reviews_seller.groupby('seller_id')['review_score'].agg('mean'))\n",
    "review_score_ave.rename(columns = {'review_score': 'review_score_ave'}, inplace = True)\n",
    "reviews_seller = pd.merge(reviews_seller, review_score_ave, on=\"seller_id\", how=\"inner\")\n",
    "reviews_seller = reviews_seller[['seller_id','review_score_ave']]\n",
    "\n",
    "# Merge the review scores dataset and sellers dataset\n",
    "mf = pd.merge(mf,reviews_seller, on='seller_id', how='inner')"
   ]
  },
  {
   "cell_type": "code",
   "execution_count": 30,
   "metadata": {
    "scrolled": false
   },
   "outputs": [
    {
     "data": {
      "text/html": [
       "<div>\n",
       "<style scoped>\n",
       "    .dataframe tbody tr th:only-of-type {\n",
       "        vertical-align: middle;\n",
       "    }\n",
       "\n",
       "    .dataframe tbody tr th {\n",
       "        vertical-align: top;\n",
       "    }\n",
       "\n",
       "    .dataframe thead th {\n",
       "        text-align: right;\n",
       "    }\n",
       "</style>\n",
       "<table border=\"1\" class=\"dataframe\">\n",
       "  <thead>\n",
       "    <tr style=\"text-align: right;\">\n",
       "      <th></th>\n",
       "      <th>mql_id</th>\n",
       "      <th>first_contact_date</th>\n",
       "      <th>origin</th>\n",
       "      <th>seller_id</th>\n",
       "      <th>won_date</th>\n",
       "      <th>business_segment</th>\n",
       "      <th>lead_type</th>\n",
       "      <th>lead_behaviour_profile</th>\n",
       "      <th>business_type</th>\n",
       "      <th>declared_monthly_revenue</th>\n",
       "      <th>days_to_close</th>\n",
       "      <th>review_score_ave</th>\n",
       "    </tr>\n",
       "  </thead>\n",
       "  <tbody>\n",
       "    <tr>\n",
       "      <th>0</th>\n",
       "      <td>5420aad7fec3549a85876ba1c529bd84</td>\n",
       "      <td>2018-02-21</td>\n",
       "      <td>organic_search</td>\n",
       "      <td>2c43fb513632d29b3b58df74816f1b06</td>\n",
       "      <td>2018-02-26 19:58:54</td>\n",
       "      <td>pet</td>\n",
       "      <td>online_medium</td>\n",
       "      <td>cat</td>\n",
       "      <td>reseller</td>\n",
       "      <td>0.0</td>\n",
       "      <td>5</td>\n",
       "      <td>3.666667</td>\n",
       "    </tr>\n",
       "    <tr>\n",
       "      <th>1</th>\n",
       "      <td>5420aad7fec3549a85876ba1c529bd84</td>\n",
       "      <td>2018-02-21</td>\n",
       "      <td>organic_search</td>\n",
       "      <td>2c43fb513632d29b3b58df74816f1b06</td>\n",
       "      <td>2018-02-26 19:58:54</td>\n",
       "      <td>pet</td>\n",
       "      <td>online_medium</td>\n",
       "      <td>cat</td>\n",
       "      <td>reseller</td>\n",
       "      <td>0.0</td>\n",
       "      <td>5</td>\n",
       "      <td>3.666667</td>\n",
       "    </tr>\n",
       "    <tr>\n",
       "      <th>2</th>\n",
       "      <td>5420aad7fec3549a85876ba1c529bd84</td>\n",
       "      <td>2018-02-21</td>\n",
       "      <td>organic_search</td>\n",
       "      <td>2c43fb513632d29b3b58df74816f1b06</td>\n",
       "      <td>2018-02-26 19:58:54</td>\n",
       "      <td>pet</td>\n",
       "      <td>online_medium</td>\n",
       "      <td>cat</td>\n",
       "      <td>reseller</td>\n",
       "      <td>0.0</td>\n",
       "      <td>5</td>\n",
       "      <td>3.666667</td>\n",
       "    </tr>\n",
       "    <tr>\n",
       "      <th>3</th>\n",
       "      <td>327174d3648a2d047e8940d7d15204ca</td>\n",
       "      <td>2018-04-03</td>\n",
       "      <td>organic_search</td>\n",
       "      <td>612170e34b97004b3ba37eae81836b4c</td>\n",
       "      <td>2018-06-05 17:27:23</td>\n",
       "      <td>home_appliances</td>\n",
       "      <td>online_big</td>\n",
       "      <td>cat</td>\n",
       "      <td>reseller</td>\n",
       "      <td>0.0</td>\n",
       "      <td>63</td>\n",
       "      <td>4.427273</td>\n",
       "    </tr>\n",
       "    <tr>\n",
       "      <th>4</th>\n",
       "      <td>327174d3648a2d047e8940d7d15204ca</td>\n",
       "      <td>2018-04-03</td>\n",
       "      <td>organic_search</td>\n",
       "      <td>612170e34b97004b3ba37eae81836b4c</td>\n",
       "      <td>2018-06-05 17:27:23</td>\n",
       "      <td>home_appliances</td>\n",
       "      <td>online_big</td>\n",
       "      <td>cat</td>\n",
       "      <td>reseller</td>\n",
       "      <td>0.0</td>\n",
       "      <td>63</td>\n",
       "      <td>4.427273</td>\n",
       "    </tr>\n",
       "  </tbody>\n",
       "</table>\n",
       "</div>"
      ],
      "text/plain": [
       "                             mql_id first_contact_date          origin  \\\n",
       "0  5420aad7fec3549a85876ba1c529bd84         2018-02-21  organic_search   \n",
       "1  5420aad7fec3549a85876ba1c529bd84         2018-02-21  organic_search   \n",
       "2  5420aad7fec3549a85876ba1c529bd84         2018-02-21  organic_search   \n",
       "3  327174d3648a2d047e8940d7d15204ca         2018-04-03  organic_search   \n",
       "4  327174d3648a2d047e8940d7d15204ca         2018-04-03  organic_search   \n",
       "\n",
       "                          seller_id            won_date business_segment  \\\n",
       "0  2c43fb513632d29b3b58df74816f1b06 2018-02-26 19:58:54              pet   \n",
       "1  2c43fb513632d29b3b58df74816f1b06 2018-02-26 19:58:54              pet   \n",
       "2  2c43fb513632d29b3b58df74816f1b06 2018-02-26 19:58:54              pet   \n",
       "3  612170e34b97004b3ba37eae81836b4c 2018-06-05 17:27:23  home_appliances   \n",
       "4  612170e34b97004b3ba37eae81836b4c 2018-06-05 17:27:23  home_appliances   \n",
       "\n",
       "       lead_type lead_behaviour_profile business_type  \\\n",
       "0  online_medium                    cat      reseller   \n",
       "1  online_medium                    cat      reseller   \n",
       "2  online_medium                    cat      reseller   \n",
       "3     online_big                    cat      reseller   \n",
       "4     online_big                    cat      reseller   \n",
       "\n",
       "   declared_monthly_revenue  days_to_close  review_score_ave  \n",
       "0                       0.0              5          3.666667  \n",
       "1                       0.0              5          3.666667  \n",
       "2                       0.0              5          3.666667  \n",
       "3                       0.0             63          4.427273  \n",
       "4                       0.0             63          4.427273  "
      ]
     },
     "execution_count": 30,
     "metadata": {},
     "output_type": "execute_result"
    }
   ],
   "source": [
    "# The final dataset 2\n",
    "mf.head()"
   ]
  },
  {
   "cell_type": "code",
   "execution_count": null,
   "metadata": {},
   "outputs": [],
   "source": []
  },
  {
   "cell_type": "markdown",
   "metadata": {},
   "source": [
    "<a id=\"5\"></a>\n",
    "## 5. Processed Datasets Introduction"
   ]
  },
  {
   "cell_type": "markdown",
   "metadata": {},
   "source": [
    "**ecom**: <br>The dataset includes all the inforamtion of each *order* on Olist in this period;<br>"
   ]
  },
  {
   "cell_type": "markdown",
   "metadata": {},
   "source": [
    "**olist_ecommerce**: <br>The dataset includes the important inforamtion of each each *product* on Olist during this period;<br>"
   ]
  },
  {
   "cell_type": "markdown",
   "metadata": {},
   "source": [
    "**mf**: <br>The dataset includes the marketing funnel information of some *sellers* on Olist during this period."
   ]
  },
  {
   "cell_type": "code",
   "execution_count": null,
   "metadata": {},
   "outputs": [],
   "source": []
  },
  {
   "cell_type": "markdown",
   "metadata": {},
   "source": [
    "---"
   ]
  },
  {
   "cell_type": "markdown",
   "metadata": {},
   "source": [
    "# Data Preparation Finished\n",
    "<a href=\"#top\"><button type=\"button\">Back to Top</button></a><br><br>\n",
    "<a href=\"data_analysis.html\" target=_blank><button type=\"button\">Data Analysis Part</button></a>"
   ]
  }
 ],
 "metadata": {
  "kernelspec": {
   "display_name": "Python 3",
   "language": "python",
   "name": "python3"
  },
  "language_info": {
   "codemirror_mode": {
    "name": "ipython",
    "version": 3
   },
   "file_extension": ".py",
   "mimetype": "text/x-python",
   "name": "python",
   "nbconvert_exporter": "python",
   "pygments_lexer": "ipython3",
   "version": "3.8.5"
  }
 },
 "nbformat": 4,
 "nbformat_minor": 4
}
